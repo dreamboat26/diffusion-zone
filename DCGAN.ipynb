{
  "nbformat": 4,
  "nbformat_minor": 0,
  "metadata": {
    "colab": {
      "provenance": [],
      "gpuType": "T4"
    },
    "kernelspec": {
      "name": "python3",
      "display_name": "Python 3"
    },
    "language_info": {
      "name": "python"
    },
    "accelerator": "GPU",
    "widgets": {
      "application/vnd.jupyter.widget-state+json": {
        "4eecf098a7274439b88faf1b6cbd9828": {
          "model_module": "@jupyter-widgets/controls",
          "model_name": "HBoxModel",
          "model_module_version": "1.5.0",
          "state": {
            "_dom_classes": [],
            "_model_module": "@jupyter-widgets/controls",
            "_model_module_version": "1.5.0",
            "_model_name": "HBoxModel",
            "_view_count": null,
            "_view_module": "@jupyter-widgets/controls",
            "_view_module_version": "1.5.0",
            "_view_name": "HBoxView",
            "box_style": "",
            "children": [
              "IPY_MODEL_eab6f06aaefd46ddbd5ddca0df10e1ec",
              "IPY_MODEL_1d7d8d865acc4434b22bbe288db02b68",
              "IPY_MODEL_3c3a0fb43e2a4e93b3ee7f60be9a79f8"
            ],
            "layout": "IPY_MODEL_2767d487f0304fa3895840f7f2c15f2a"
          }
        },
        "eab6f06aaefd46ddbd5ddca0df10e1ec": {
          "model_module": "@jupyter-widgets/controls",
          "model_name": "HTMLModel",
          "model_module_version": "1.5.0",
          "state": {
            "_dom_classes": [],
            "_model_module": "@jupyter-widgets/controls",
            "_model_module_version": "1.5.0",
            "_model_name": "HTMLModel",
            "_view_count": null,
            "_view_module": "@jupyter-widgets/controls",
            "_view_module_version": "1.5.0",
            "_view_name": "HTMLView",
            "description": "",
            "description_tooltip": null,
            "layout": "IPY_MODEL_a805cd52262c443da27294c1f3c30bb1",
            "placeholder": "​",
            "style": "IPY_MODEL_7a6fc559b2ce4f02ab5a1fe85a395d7c",
            "value": "Epoch: 100%"
          }
        },
        "1d7d8d865acc4434b22bbe288db02b68": {
          "model_module": "@jupyter-widgets/controls",
          "model_name": "FloatProgressModel",
          "model_module_version": "1.5.0",
          "state": {
            "_dom_classes": [],
            "_model_module": "@jupyter-widgets/controls",
            "_model_module_version": "1.5.0",
            "_model_name": "FloatProgressModel",
            "_view_count": null,
            "_view_module": "@jupyter-widgets/controls",
            "_view_module_version": "1.5.0",
            "_view_name": "ProgressView",
            "bar_style": "",
            "description": "",
            "description_tooltip": null,
            "layout": "IPY_MODEL_7d5eca1390fc40ef92a465e18730fa4a",
            "max": 1,
            "min": 0,
            "orientation": "horizontal",
            "style": "IPY_MODEL_686cee2561fe4996ab82e5fb562f3b70",
            "value": 1
          }
        },
        "3c3a0fb43e2a4e93b3ee7f60be9a79f8": {
          "model_module": "@jupyter-widgets/controls",
          "model_name": "HTMLModel",
          "model_module_version": "1.5.0",
          "state": {
            "_dom_classes": [],
            "_model_module": "@jupyter-widgets/controls",
            "_model_module_version": "1.5.0",
            "_model_name": "HTMLModel",
            "_view_count": null,
            "_view_module": "@jupyter-widgets/controls",
            "_view_module_version": "1.5.0",
            "_view_name": "HTMLView",
            "description": "",
            "description_tooltip": null,
            "layout": "IPY_MODEL_2934043130b343b5a4e62dd68ae1251d",
            "placeholder": "​",
            "style": "IPY_MODEL_b8ddc29e8b12460fba57d5956e95e799",
            "value": " 1/1 [00:25&lt;00:00, 25.45s/it, G Loss: 0.0000, D Loss: 0.0000]"
          }
        },
        "2767d487f0304fa3895840f7f2c15f2a": {
          "model_module": "@jupyter-widgets/base",
          "model_name": "LayoutModel",
          "model_module_version": "1.2.0",
          "state": {
            "_model_module": "@jupyter-widgets/base",
            "_model_module_version": "1.2.0",
            "_model_name": "LayoutModel",
            "_view_count": null,
            "_view_module": "@jupyter-widgets/base",
            "_view_module_version": "1.2.0",
            "_view_name": "LayoutView",
            "align_content": null,
            "align_items": null,
            "align_self": null,
            "border": null,
            "bottom": null,
            "display": null,
            "flex": null,
            "flex_flow": null,
            "grid_area": null,
            "grid_auto_columns": null,
            "grid_auto_flow": null,
            "grid_auto_rows": null,
            "grid_column": null,
            "grid_gap": null,
            "grid_row": null,
            "grid_template_areas": null,
            "grid_template_columns": null,
            "grid_template_rows": null,
            "height": null,
            "justify_content": null,
            "justify_items": null,
            "left": null,
            "margin": null,
            "max_height": null,
            "max_width": null,
            "min_height": null,
            "min_width": null,
            "object_fit": null,
            "object_position": null,
            "order": null,
            "overflow": null,
            "overflow_x": null,
            "overflow_y": null,
            "padding": null,
            "right": null,
            "top": null,
            "visibility": "hidden",
            "width": null
          }
        },
        "a805cd52262c443da27294c1f3c30bb1": {
          "model_module": "@jupyter-widgets/base",
          "model_name": "LayoutModel",
          "model_module_version": "1.2.0",
          "state": {
            "_model_module": "@jupyter-widgets/base",
            "_model_module_version": "1.2.0",
            "_model_name": "LayoutModel",
            "_view_count": null,
            "_view_module": "@jupyter-widgets/base",
            "_view_module_version": "1.2.0",
            "_view_name": "LayoutView",
            "align_content": null,
            "align_items": null,
            "align_self": null,
            "border": null,
            "bottom": null,
            "display": null,
            "flex": null,
            "flex_flow": null,
            "grid_area": null,
            "grid_auto_columns": null,
            "grid_auto_flow": null,
            "grid_auto_rows": null,
            "grid_column": null,
            "grid_gap": null,
            "grid_row": null,
            "grid_template_areas": null,
            "grid_template_columns": null,
            "grid_template_rows": null,
            "height": null,
            "justify_content": null,
            "justify_items": null,
            "left": null,
            "margin": null,
            "max_height": null,
            "max_width": null,
            "min_height": null,
            "min_width": null,
            "object_fit": null,
            "object_position": null,
            "order": null,
            "overflow": null,
            "overflow_x": null,
            "overflow_y": null,
            "padding": null,
            "right": null,
            "top": null,
            "visibility": null,
            "width": null
          }
        },
        "7a6fc559b2ce4f02ab5a1fe85a395d7c": {
          "model_module": "@jupyter-widgets/controls",
          "model_name": "DescriptionStyleModel",
          "model_module_version": "1.5.0",
          "state": {
            "_model_module": "@jupyter-widgets/controls",
            "_model_module_version": "1.5.0",
            "_model_name": "DescriptionStyleModel",
            "_view_count": null,
            "_view_module": "@jupyter-widgets/base",
            "_view_module_version": "1.2.0",
            "_view_name": "StyleView",
            "description_width": ""
          }
        },
        "7d5eca1390fc40ef92a465e18730fa4a": {
          "model_module": "@jupyter-widgets/base",
          "model_name": "LayoutModel",
          "model_module_version": "1.2.0",
          "state": {
            "_model_module": "@jupyter-widgets/base",
            "_model_module_version": "1.2.0",
            "_model_name": "LayoutModel",
            "_view_count": null,
            "_view_module": "@jupyter-widgets/base",
            "_view_module_version": "1.2.0",
            "_view_name": "LayoutView",
            "align_content": null,
            "align_items": null,
            "align_self": null,
            "border": null,
            "bottom": null,
            "display": null,
            "flex": null,
            "flex_flow": null,
            "grid_area": null,
            "grid_auto_columns": null,
            "grid_auto_flow": null,
            "grid_auto_rows": null,
            "grid_column": null,
            "grid_gap": null,
            "grid_row": null,
            "grid_template_areas": null,
            "grid_template_columns": null,
            "grid_template_rows": null,
            "height": null,
            "justify_content": null,
            "justify_items": null,
            "left": null,
            "margin": null,
            "max_height": null,
            "max_width": null,
            "min_height": null,
            "min_width": null,
            "object_fit": null,
            "object_position": null,
            "order": null,
            "overflow": null,
            "overflow_x": null,
            "overflow_y": null,
            "padding": null,
            "right": null,
            "top": null,
            "visibility": null,
            "width": null
          }
        },
        "686cee2561fe4996ab82e5fb562f3b70": {
          "model_module": "@jupyter-widgets/controls",
          "model_name": "ProgressStyleModel",
          "model_module_version": "1.5.0",
          "state": {
            "_model_module": "@jupyter-widgets/controls",
            "_model_module_version": "1.5.0",
            "_model_name": "ProgressStyleModel",
            "_view_count": null,
            "_view_module": "@jupyter-widgets/base",
            "_view_module_version": "1.2.0",
            "_view_name": "StyleView",
            "bar_color": null,
            "description_width": ""
          }
        },
        "2934043130b343b5a4e62dd68ae1251d": {
          "model_module": "@jupyter-widgets/base",
          "model_name": "LayoutModel",
          "model_module_version": "1.2.0",
          "state": {
            "_model_module": "@jupyter-widgets/base",
            "_model_module_version": "1.2.0",
            "_model_name": "LayoutModel",
            "_view_count": null,
            "_view_module": "@jupyter-widgets/base",
            "_view_module_version": "1.2.0",
            "_view_name": "LayoutView",
            "align_content": null,
            "align_items": null,
            "align_self": null,
            "border": null,
            "bottom": null,
            "display": null,
            "flex": null,
            "flex_flow": null,
            "grid_area": null,
            "grid_auto_columns": null,
            "grid_auto_flow": null,
            "grid_auto_rows": null,
            "grid_column": null,
            "grid_gap": null,
            "grid_row": null,
            "grid_template_areas": null,
            "grid_template_columns": null,
            "grid_template_rows": null,
            "height": null,
            "justify_content": null,
            "justify_items": null,
            "left": null,
            "margin": null,
            "max_height": null,
            "max_width": null,
            "min_height": null,
            "min_width": null,
            "object_fit": null,
            "object_position": null,
            "order": null,
            "overflow": null,
            "overflow_x": null,
            "overflow_y": null,
            "padding": null,
            "right": null,
            "top": null,
            "visibility": null,
            "width": null
          }
        },
        "b8ddc29e8b12460fba57d5956e95e799": {
          "model_module": "@jupyter-widgets/controls",
          "model_name": "DescriptionStyleModel",
          "model_module_version": "1.5.0",
          "state": {
            "_model_module": "@jupyter-widgets/controls",
            "_model_module_version": "1.5.0",
            "_model_name": "DescriptionStyleModel",
            "_view_count": null,
            "_view_module": "@jupyter-widgets/base",
            "_view_module_version": "1.2.0",
            "_view_name": "StyleView",
            "description_width": ""
          }
        },
        "40cf4646bbea4fb88b627a3d1320d1b7": {
          "model_module": "@jupyter-widgets/controls",
          "model_name": "HBoxModel",
          "model_module_version": "1.5.0",
          "state": {
            "_dom_classes": [],
            "_model_module": "@jupyter-widgets/controls",
            "_model_module_version": "1.5.0",
            "_model_name": "HBoxModel",
            "_view_count": null,
            "_view_module": "@jupyter-widgets/controls",
            "_view_module_version": "1.5.0",
            "_view_name": "HBoxView",
            "box_style": "",
            "children": [
              "IPY_MODEL_b5efae21ec2b4ecc9788ec1057c96259",
              "IPY_MODEL_0201612a7ebd4ef4b9a6ef6d7cfc7f55",
              "IPY_MODEL_03e7ee933e12461a96653c3208454af9"
            ],
            "layout": "IPY_MODEL_be36ab99bf39461f95e7e3b484c5890c"
          }
        },
        "b5efae21ec2b4ecc9788ec1057c96259": {
          "model_module": "@jupyter-widgets/controls",
          "model_name": "HTMLModel",
          "model_module_version": "1.5.0",
          "state": {
            "_dom_classes": [],
            "_model_module": "@jupyter-widgets/controls",
            "_model_module_version": "1.5.0",
            "_model_name": "HTMLModel",
            "_view_count": null,
            "_view_module": "@jupyter-widgets/controls",
            "_view_module_version": "1.5.0",
            "_view_name": "HTMLView",
            "description": "",
            "description_tooltip": null,
            "layout": "IPY_MODEL_e5565ba37b6449f796c41be261a17a46",
            "placeholder": "​",
            "style": "IPY_MODEL_1ac7bfbef6ad4a41a1119f7d1b5b20b1",
            "value": "100%"
          }
        },
        "0201612a7ebd4ef4b9a6ef6d7cfc7f55": {
          "model_module": "@jupyter-widgets/controls",
          "model_name": "FloatProgressModel",
          "model_module_version": "1.5.0",
          "state": {
            "_dom_classes": [],
            "_model_module": "@jupyter-widgets/controls",
            "_model_module_version": "1.5.0",
            "_model_name": "FloatProgressModel",
            "_view_count": null,
            "_view_module": "@jupyter-widgets/controls",
            "_view_module_version": "1.5.0",
            "_view_name": "ProgressView",
            "bar_style": "",
            "description": "",
            "description_tooltip": null,
            "layout": "IPY_MODEL_aaf41209fee946789f722a3319a03ba4",
            "max": 118,
            "min": 0,
            "orientation": "horizontal",
            "style": "IPY_MODEL_23329c04375d4167be70300f14b6c655",
            "value": 118
          }
        },
        "03e7ee933e12461a96653c3208454af9": {
          "model_module": "@jupyter-widgets/controls",
          "model_name": "HTMLModel",
          "model_module_version": "1.5.0",
          "state": {
            "_dom_classes": [],
            "_model_module": "@jupyter-widgets/controls",
            "_model_module_version": "1.5.0",
            "_model_name": "HTMLModel",
            "_view_count": null,
            "_view_module": "@jupyter-widgets/controls",
            "_view_module_version": "1.5.0",
            "_view_name": "HTMLView",
            "description": "",
            "description_tooltip": null,
            "layout": "IPY_MODEL_30cc87571cc8442cb630474d3653aa5b",
            "placeholder": "​",
            "style": "IPY_MODEL_93900ead68124b0297f7d56634d01ded",
            "value": " 118/118 [00:25&lt;00:00,  5.13it/s]"
          }
        },
        "be36ab99bf39461f95e7e3b484c5890c": {
          "model_module": "@jupyter-widgets/base",
          "model_name": "LayoutModel",
          "model_module_version": "1.2.0",
          "state": {
            "_model_module": "@jupyter-widgets/base",
            "_model_module_version": "1.2.0",
            "_model_name": "LayoutModel",
            "_view_count": null,
            "_view_module": "@jupyter-widgets/base",
            "_view_module_version": "1.2.0",
            "_view_name": "LayoutView",
            "align_content": null,
            "align_items": null,
            "align_self": null,
            "border": null,
            "bottom": null,
            "display": null,
            "flex": null,
            "flex_flow": null,
            "grid_area": null,
            "grid_auto_columns": null,
            "grid_auto_flow": null,
            "grid_auto_rows": null,
            "grid_column": null,
            "grid_gap": null,
            "grid_row": null,
            "grid_template_areas": null,
            "grid_template_columns": null,
            "grid_template_rows": null,
            "height": null,
            "justify_content": null,
            "justify_items": null,
            "left": null,
            "margin": null,
            "max_height": null,
            "max_width": null,
            "min_height": null,
            "min_width": null,
            "object_fit": null,
            "object_position": null,
            "order": null,
            "overflow": null,
            "overflow_x": null,
            "overflow_y": null,
            "padding": null,
            "right": null,
            "top": null,
            "visibility": "hidden",
            "width": null
          }
        },
        "e5565ba37b6449f796c41be261a17a46": {
          "model_module": "@jupyter-widgets/base",
          "model_name": "LayoutModel",
          "model_module_version": "1.2.0",
          "state": {
            "_model_module": "@jupyter-widgets/base",
            "_model_module_version": "1.2.0",
            "_model_name": "LayoutModel",
            "_view_count": null,
            "_view_module": "@jupyter-widgets/base",
            "_view_module_version": "1.2.0",
            "_view_name": "LayoutView",
            "align_content": null,
            "align_items": null,
            "align_self": null,
            "border": null,
            "bottom": null,
            "display": null,
            "flex": null,
            "flex_flow": null,
            "grid_area": null,
            "grid_auto_columns": null,
            "grid_auto_flow": null,
            "grid_auto_rows": null,
            "grid_column": null,
            "grid_gap": null,
            "grid_row": null,
            "grid_template_areas": null,
            "grid_template_columns": null,
            "grid_template_rows": null,
            "height": null,
            "justify_content": null,
            "justify_items": null,
            "left": null,
            "margin": null,
            "max_height": null,
            "max_width": null,
            "min_height": null,
            "min_width": null,
            "object_fit": null,
            "object_position": null,
            "order": null,
            "overflow": null,
            "overflow_x": null,
            "overflow_y": null,
            "padding": null,
            "right": null,
            "top": null,
            "visibility": null,
            "width": null
          }
        },
        "1ac7bfbef6ad4a41a1119f7d1b5b20b1": {
          "model_module": "@jupyter-widgets/controls",
          "model_name": "DescriptionStyleModel",
          "model_module_version": "1.5.0",
          "state": {
            "_model_module": "@jupyter-widgets/controls",
            "_model_module_version": "1.5.0",
            "_model_name": "DescriptionStyleModel",
            "_view_count": null,
            "_view_module": "@jupyter-widgets/base",
            "_view_module_version": "1.2.0",
            "_view_name": "StyleView",
            "description_width": ""
          }
        },
        "aaf41209fee946789f722a3319a03ba4": {
          "model_module": "@jupyter-widgets/base",
          "model_name": "LayoutModel",
          "model_module_version": "1.2.0",
          "state": {
            "_model_module": "@jupyter-widgets/base",
            "_model_module_version": "1.2.0",
            "_model_name": "LayoutModel",
            "_view_count": null,
            "_view_module": "@jupyter-widgets/base",
            "_view_module_version": "1.2.0",
            "_view_name": "LayoutView",
            "align_content": null,
            "align_items": null,
            "align_self": null,
            "border": null,
            "bottom": null,
            "display": null,
            "flex": null,
            "flex_flow": null,
            "grid_area": null,
            "grid_auto_columns": null,
            "grid_auto_flow": null,
            "grid_auto_rows": null,
            "grid_column": null,
            "grid_gap": null,
            "grid_row": null,
            "grid_template_areas": null,
            "grid_template_columns": null,
            "grid_template_rows": null,
            "height": null,
            "justify_content": null,
            "justify_items": null,
            "left": null,
            "margin": null,
            "max_height": null,
            "max_width": null,
            "min_height": null,
            "min_width": null,
            "object_fit": null,
            "object_position": null,
            "order": null,
            "overflow": null,
            "overflow_x": null,
            "overflow_y": null,
            "padding": null,
            "right": null,
            "top": null,
            "visibility": null,
            "width": null
          }
        },
        "23329c04375d4167be70300f14b6c655": {
          "model_module": "@jupyter-widgets/controls",
          "model_name": "ProgressStyleModel",
          "model_module_version": "1.5.0",
          "state": {
            "_model_module": "@jupyter-widgets/controls",
            "_model_module_version": "1.5.0",
            "_model_name": "ProgressStyleModel",
            "_view_count": null,
            "_view_module": "@jupyter-widgets/base",
            "_view_module_version": "1.2.0",
            "_view_name": "StyleView",
            "bar_color": null,
            "description_width": ""
          }
        },
        "30cc87571cc8442cb630474d3653aa5b": {
          "model_module": "@jupyter-widgets/base",
          "model_name": "LayoutModel",
          "model_module_version": "1.2.0",
          "state": {
            "_model_module": "@jupyter-widgets/base",
            "_model_module_version": "1.2.0",
            "_model_name": "LayoutModel",
            "_view_count": null,
            "_view_module": "@jupyter-widgets/base",
            "_view_module_version": "1.2.0",
            "_view_name": "LayoutView",
            "align_content": null,
            "align_items": null,
            "align_self": null,
            "border": null,
            "bottom": null,
            "display": null,
            "flex": null,
            "flex_flow": null,
            "grid_area": null,
            "grid_auto_columns": null,
            "grid_auto_flow": null,
            "grid_auto_rows": null,
            "grid_column": null,
            "grid_gap": null,
            "grid_row": null,
            "grid_template_areas": null,
            "grid_template_columns": null,
            "grid_template_rows": null,
            "height": null,
            "justify_content": null,
            "justify_items": null,
            "left": null,
            "margin": null,
            "max_height": null,
            "max_width": null,
            "min_height": null,
            "min_width": null,
            "object_fit": null,
            "object_position": null,
            "order": null,
            "overflow": null,
            "overflow_x": null,
            "overflow_y": null,
            "padding": null,
            "right": null,
            "top": null,
            "visibility": null,
            "width": null
          }
        },
        "93900ead68124b0297f7d56634d01ded": {
          "model_module": "@jupyter-widgets/controls",
          "model_name": "DescriptionStyleModel",
          "model_module_version": "1.5.0",
          "state": {
            "_model_module": "@jupyter-widgets/controls",
            "_model_module_version": "1.5.0",
            "_model_name": "DescriptionStyleModel",
            "_view_count": null,
            "_view_module": "@jupyter-widgets/base",
            "_view_module_version": "1.2.0",
            "_view_name": "StyleView",
            "description_width": ""
          }
        }
      }
    }
  },
  "cells": [
    {
      "cell_type": "code",
      "execution_count": null,
      "metadata": {
        "id": "NLqxBEICDOli"
      },
      "outputs": [],
      "source": [
        "import torch\n",
        "import torch.nn as nn\n",
        "import torch.nn.functional as F\n",
        "import torch.optim as optim\n",
        "import torchvision\n",
        "from torchvision import datasets, transforms\n",
        "import torchvision.utils as vutils\n",
        "\n",
        "import os\n",
        "import matplotlib.pyplot as plt\n",
        "import numpy as np\n",
        "import imageio\n",
        "\n",
        "from tqdm.notebook import trange, tqdm"
      ]
    },
    {
      "cell_type": "code",
      "source": [
        "# training parameters\n",
        "batch_size = 512\n",
        "dlr = 1e-4\n",
        "glr = 1e-4\n",
        "\n",
        "train_epoch = 1\n",
        "\n",
        "# data_loader\n",
        "img_size = 32\n",
        "\n",
        "data_set_root = \"../../datasets\""
      ],
      "metadata": {
        "id": "kWKxow9fGVYj"
      },
      "execution_count": null,
      "outputs": []
    },
    {
      "cell_type": "code",
      "source": [
        "use_cuda = torch.cuda.is_available()\n",
        "gpu_indx  = 0\n",
        "device = torch.device(gpu_indx if use_cuda else \"cpu\")"
      ],
      "metadata": {
        "id": "smAfZRK3GbT5"
      },
      "execution_count": null,
      "outputs": []
    },
    {
      "cell_type": "code",
      "source": [
        "transform = transforms.Compose([\n",
        "                                transforms.Resize(img_size),\n",
        "                                transforms.ToTensor(),\n",
        "                                transforms.Normalize(mean=([0.5]), std=([0.5]))\n",
        "                                ])\n",
        "\n",
        "trainset = datasets.MNIST(data_set_root, train=True, download=True, transform=transform)\n",
        "train_loader = torch.utils.data.DataLoader(trainset, batch_size=batch_size, shuffle=True, num_workers=4)"
      ],
      "metadata": {
        "colab": {
          "base_uri": "https://localhost:8080/"
        },
        "id": "5PjH4l-gGmb8",
        "outputId": "1008ce7e-06df-4ea6-e8c7-f662280dd386"
      },
      "execution_count": null,
      "outputs": [
        {
          "output_type": "stream",
          "name": "stdout",
          "text": [
            "Downloading http://yann.lecun.com/exdb/mnist/train-images-idx3-ubyte.gz\n",
            "Downloading http://yann.lecun.com/exdb/mnist/train-images-idx3-ubyte.gz to ../../datasets/MNIST/raw/train-images-idx3-ubyte.gz\n"
          ]
        },
        {
          "output_type": "stream",
          "name": "stderr",
          "text": [
            "100%|██████████| 9912422/9912422 [00:00<00:00, 80480437.72it/s]\n"
          ]
        },
        {
          "output_type": "stream",
          "name": "stdout",
          "text": [
            "Extracting ../../datasets/MNIST/raw/train-images-idx3-ubyte.gz to ../../datasets/MNIST/raw\n",
            "\n",
            "Downloading http://yann.lecun.com/exdb/mnist/train-labels-idx1-ubyte.gz\n",
            "Downloading http://yann.lecun.com/exdb/mnist/train-labels-idx1-ubyte.gz to ../../datasets/MNIST/raw/train-labels-idx1-ubyte.gz\n"
          ]
        },
        {
          "output_type": "stream",
          "name": "stderr",
          "text": [
            "100%|██████████| 28881/28881 [00:00<00:00, 96599436.86it/s]\n"
          ]
        },
        {
          "output_type": "stream",
          "name": "stdout",
          "text": [
            "Extracting ../../datasets/MNIST/raw/train-labels-idx1-ubyte.gz to ../../datasets/MNIST/raw\n",
            "\n",
            "Downloading http://yann.lecun.com/exdb/mnist/t10k-images-idx3-ubyte.gz\n",
            "Downloading http://yann.lecun.com/exdb/mnist/t10k-images-idx3-ubyte.gz to ../../datasets/MNIST/raw/t10k-images-idx3-ubyte.gz\n"
          ]
        },
        {
          "output_type": "stream",
          "name": "stderr",
          "text": [
            "100%|██████████| 1648877/1648877 [00:00<00:00, 13475622.10it/s]\n"
          ]
        },
        {
          "output_type": "stream",
          "name": "stdout",
          "text": [
            "Extracting ../../datasets/MNIST/raw/t10k-images-idx3-ubyte.gz to ../../datasets/MNIST/raw\n",
            "\n",
            "Downloading http://yann.lecun.com/exdb/mnist/t10k-labels-idx1-ubyte.gz\n",
            "Downloading http://yann.lecun.com/exdb/mnist/t10k-labels-idx1-ubyte.gz to ../../datasets/MNIST/raw/t10k-labels-idx1-ubyte.gz\n"
          ]
        },
        {
          "output_type": "stream",
          "name": "stderr",
          "text": [
            "100%|██████████| 4542/4542 [00:00<00:00, 18424109.06it/s]\n"
          ]
        },
        {
          "output_type": "stream",
          "name": "stdout",
          "text": [
            "Extracting ../../datasets/MNIST/raw/t10k-labels-idx1-ubyte.gz to ../../datasets/MNIST/raw\n",
            "\n"
          ]
        },
        {
          "output_type": "stream",
          "name": "stderr",
          "text": [
            "/usr/local/lib/python3.10/dist-packages/torch/utils/data/dataloader.py:558: UserWarning: This DataLoader will create 4 worker processes in total. Our suggested max number of worker in current system is 2, which is smaller than what this DataLoader is going to create. Please be aware that excessive worker creation might get DataLoader running slow or even freeze, lower the worker number to avoid potential slowness/freeze if necessary.\n",
            "  warnings.warn(_create_warning_msg(\n"
          ]
        }
      ]
    },
    {
      "cell_type": "code",
      "source": [
        "class Generator(nn.Module):\n",
        "    def __init__(self, z=64, ch=16):\n",
        "        super(Generator, self).__init__()\n",
        "        self.conv1 = nn.ConvTranspose2d(z, ch * 4, 4, 1)\n",
        "\n",
        "        self.conv2 = nn.Conv2d(ch * 4, ch * 4, 3, 1, 1)\n",
        "        self.bn1 = nn.BatchNorm2d(ch * 4)\n",
        "\n",
        "        self.conv3 = nn.Conv2d(ch * 4, ch * 2, 3, 1, 1)\n",
        "        self.bn2 = nn.BatchNorm2d(ch * 2)\n",
        "\n",
        "        self.conv4 = nn.Conv2d(ch * 2, ch * 2, 3, 1, 1)\n",
        "        self.bn3 = nn.BatchNorm2d(ch * 2)\n",
        "\n",
        "        self.conv5 = nn.Conv2d(ch * 2, ch * 2, 3, 1, 1)\n",
        "        self.bn4 = nn.BatchNorm2d(ch * 2)\n",
        "\n",
        "        self.conv_out = nn.Conv2d(ch * 2, 1, 3, 1, 1)\n",
        "        self.up_nn = nn.Upsample(scale_factor=2, mode=\"nearest\")\n",
        "\n",
        "    # Forward method\n",
        "    def forward(self, x):\n",
        "        x = F.elu(self.conv1(x))\n",
        "        x = self.up_nn(F.elu(self.bn1(self.conv2(x))))\n",
        "        x = self.up_nn(F.elu(self.bn2(self.conv3(x))))\n",
        "        x = self.up_nn(F.elu(self.bn3(self.conv4(x))))\n",
        "        x = F.elu(self.bn4(self.conv5(x)))\n",
        "\n",
        "        return torch.tanh(self.conv_out(x))"
      ],
      "metadata": {
        "id": "IOHNxIPAGqBp"
      },
      "execution_count": null,
      "outputs": []
    },
    {
      "cell_type": "code",
      "source": [
        "class Discriminator(nn.Module):\n",
        "    # initializers\n",
        "    def __init__(self, ch=16):\n",
        "        super(Discriminator, self).__init__()\n",
        "        self.conv_in = nn.Conv2d(1, ch, 3, 1, 1)\n",
        "\n",
        "        self.conv1 = nn.Conv2d(ch, ch*2, 3, 2, 1)\n",
        "        self.conv2 = nn.Conv2d(ch*2, ch*2, 3, 2, 1)\n",
        "        self.conv3 = nn.Conv2d(ch*2, ch*4, 3, 2, 1)\n",
        "        self.conv4 = nn.Conv2d(ch*4, ch*4, 3, 2, 1)\n",
        "        self.bn = nn.BatchNorm2d(ch*4)\n",
        "\n",
        "        self.do = nn.Dropout()\n",
        "        self.conv5 = nn.Conv2d(ch*4, 1, 2, 1)\n",
        "\n",
        "    # forward method\n",
        "    def forward(self, x):\n",
        "        x = F.elu(self.conv_in(x))\n",
        "        x = F.elu(self.conv1(x))\n",
        "        x = F.elu(self.conv2(x))\n",
        "        x = F.elu(self.conv3(x))\n",
        "        x = self.do(F.elu(self.bn(self.conv4(x))))\n",
        "        x = self.conv5(x).reshape(x.shape[0], 1)\n",
        "        return x\n",
        "\n",
        "def gan_bce_loss(output, real_label=True):\n",
        "    if real_label:\n",
        "        return F.binary_cross_entropy_with_logits(output, torch.ones_like(output))\n",
        "    else:\n",
        "        return F.binary_cross_entropy_with_logits(output, torch.zeros_like(output))\n",
        "\n",
        "def gan_w_loss(output, real_label=True):\n",
        "    if real_label:\n",
        "        return -output.mean()\n",
        "    else:\n",
        "        return output.mean()\n",
        "\n"
      ],
      "metadata": {
        "id": "Kh9tlOr3GxRN"
      },
      "execution_count": null,
      "outputs": []
    },
    {
      "cell_type": "code",
      "source": [
        "# network\n",
        "latent_noise_dem = 128\n",
        "\n",
        "g_net = Generator(latent_noise_dem, ch=32).to(device)\n",
        "d_net = Discriminator(ch=32).to(device)\n",
        "\n",
        "#A fixed latent noise vector so we can see the improvement over the epochs\n",
        "fixed_latent_noise = torch.randn(16, latent_noise_dem, 1, 1).to(device)\n",
        "\n",
        "# Adam optimizer\n",
        "g_optimizer = optim.Adam(g_net.parameters(), lr=glr)\n",
        "d_optimizer = optim.Adam(d_net.parameters(), lr=dlr)\n",
        "\n",
        "# If you are using gradient clipping, initialise the params to be smaller\n",
        "# with torch.no_grad():\n",
        "#     for param in d_net.parameters():\n",
        "#         param.data *= 0.01\n",
        "\n",
        "test_images_log = []\n",
        "d_losses = []\n",
        "g_losses = []\n",
        "\n",
        "d_out_fake = []\n",
        "d_out_real = []\n",
        "\n",
        "g_loss = 0\n",
        "d_loss = 0\n",
        "\n"
      ],
      "metadata": {
        "id": "g79zyVAeG0v4"
      },
      "execution_count": null,
      "outputs": []
    },
    {
      "cell_type": "code",
      "source": [
        "pbar = trange(train_epoch, leave=False, desc=\"Epoch\")\n",
        "for epoch in pbar:\n",
        "    pbar.set_postfix_str('G Loss: %.4f, D Loss: %.4f' % (g_loss/len(train_loader),\n",
        "                                                         d_loss/len(train_loader)))\n",
        "    g_loss = 0\n",
        "    d_loss = 0\n",
        "\n",
        "    for num_iter, (images, label) in enumerate(tqdm(train_loader, leave=False)):\n",
        "\n",
        "#         with torch.no_grad():\n",
        "#             for param in d_net.parameters():\n",
        "#                 param.clamp_(-0.05, 0.05)\n",
        "\n",
        "        images = images.to(device)\n",
        "\n",
        "        #the size of the current minibatch\n",
        "        bs = images.shape[0]\n",
        "\n",
        "        ########### Train Generator G ##############\n",
        "        #Step1: Sample a latent vector from a normal distribution and pass it through the generator\n",
        "        #to get a batch of fake images\n",
        "        latent_noise = torch.randn(bs, latent_noise_dem, 1, 1).to(device)\n",
        "        g_output = g_net(latent_noise)\n",
        "\n",
        "        #Step3: Pass the minibatch of fake images (from the Generator) through the Discriminator and calculate\n",
        "        #the loss against the \"real\" label - the Generator wants the discriminator to think it's outputs are real\n",
        "        d_result = d_net(g_output)\n",
        "        g_train_loss = gan_bce_loss(d_result, True)\n",
        "\n",
        "        #Step4: Backpropogate the loss through the discriminator and into the Generator and take a training step\n",
        "        g_net.zero_grad()\n",
        "        g_train_loss.backward()\n",
        "        g_optimizer.step()\n",
        "\n",
        "        #log the generator training loss\n",
        "        g_losses.append(g_train_loss.item())\n",
        "        g_loss += g_train_loss.item()\n",
        "\n",
        "#         with torch.no_grad():\n",
        "#             for param in g_net.parameters():\n",
        "#                 param.clamp_(-0.01, 0.01)\n",
        "\n",
        "        ########### Train Discriminator D! ############\n",
        "\n",
        "        #Step1: Pass the minibatch of real images through the Discriminator and calculate\n",
        "        #the loss against the \"real\" label\n",
        "        d_real_out = d_net(images)\n",
        "        d_real_loss = gan_bce_loss(d_real_out, True)\n",
        "        d_out_real.append(d_real_out.mean().item())\n",
        "\n",
        "        #Step2: Pass the minibatch of fake images (from the Generator) through the Discriminator and calculate\n",
        "        #the loss against the \"fake\" label\n",
        "        #We \"detach()\" the output of the Generator here as we don't need it to backpropagate through the\n",
        "        #Generator in this step\n",
        "        d_fake_out = d_net(g_output.detach())\n",
        "        d_fake_loss = gan_bce_loss(d_fake_out, False)\n",
        "        d_out_fake.append(d_fake_out.mean().item())\n",
        "\n",
        "        #Step3: Add the two losses together, backpropogate through the discriminator and take a training step\n",
        "        d_train_loss = (d_real_loss + d_fake_loss)/2\n",
        "\n",
        "        d_net.zero_grad()\n",
        "        d_train_loss.backward()\n",
        "        d_optimizer.step()\n",
        "        #log the discriminator training loss\n",
        "        d_losses.append(d_train_loss.item())\n",
        "        d_loss += d_train_loss.item()\n",
        "\n",
        "    with torch.no_grad():\n",
        "        g_net.eval()\n",
        "        #log the output of the generator given the fixed latent noise vector\n",
        "        test_fake = g_net(fixed_latent_noise)\n",
        "        imgs = torchvision.utils.make_grid(test_fake.cpu().detach(), 4, pad_value=1, normalize=True)\n",
        "        imgs_np = (imgs.numpy().transpose((1, 2, 0)) * 255).astype(np.uint8)\n",
        "        test_images_log.append(imgs_np)\n",
        "        g_net.train()"
      ],
      "metadata": {
        "colab": {
          "base_uri": "https://localhost:8080/",
          "height": 17,
          "referenced_widgets": [
            "4eecf098a7274439b88faf1b6cbd9828",
            "eab6f06aaefd46ddbd5ddca0df10e1ec",
            "1d7d8d865acc4434b22bbe288db02b68",
            "3c3a0fb43e2a4e93b3ee7f60be9a79f8",
            "2767d487f0304fa3895840f7f2c15f2a",
            "a805cd52262c443da27294c1f3c30bb1",
            "7a6fc559b2ce4f02ab5a1fe85a395d7c",
            "7d5eca1390fc40ef92a465e18730fa4a",
            "686cee2561fe4996ab82e5fb562f3b70",
            "2934043130b343b5a4e62dd68ae1251d",
            "b8ddc29e8b12460fba57d5956e95e799",
            "40cf4646bbea4fb88b627a3d1320d1b7",
            "b5efae21ec2b4ecc9788ec1057c96259",
            "0201612a7ebd4ef4b9a6ef6d7cfc7f55",
            "03e7ee933e12461a96653c3208454af9",
            "be36ab99bf39461f95e7e3b484c5890c",
            "e5565ba37b6449f796c41be261a17a46",
            "1ac7bfbef6ad4a41a1119f7d1b5b20b1",
            "aaf41209fee946789f722a3319a03ba4",
            "23329c04375d4167be70300f14b6c655",
            "30cc87571cc8442cb630474d3653aa5b",
            "93900ead68124b0297f7d56634d01ded"
          ]
        },
        "id": "nwEFUPfCG4Qd",
        "outputId": "0017be14-b9a5-408c-e55d-340bca078f7a"
      },
      "execution_count": null,
      "outputs": [
        {
          "output_type": "display_data",
          "data": {
            "text/plain": [
              "Epoch:   0%|          | 0/1 [00:00<?, ?it/s]"
            ],
            "application/vnd.jupyter.widget-view+json": {
              "version_major": 2,
              "version_minor": 0,
              "model_id": "4eecf098a7274439b88faf1b6cbd9828"
            }
          },
          "metadata": {}
        },
        {
          "output_type": "display_data",
          "data": {
            "text/plain": [
              "  0%|          | 0/118 [00:00<?, ?it/s]"
            ],
            "application/vnd.jupyter.widget-view+json": {
              "version_major": 2,
              "version_minor": 0,
              "model_id": "40cf4646bbea4fb88b627a3d1320d1b7"
            }
          },
          "metadata": {}
        }
      ]
    },
    {
      "cell_type": "code",
      "source": [
        "plt.plot(d_losses)"
      ],
      "metadata": {
        "colab": {
          "base_uri": "https://localhost:8080/",
          "height": 448
        },
        "id": "_R97PbTmG8fM",
        "outputId": "33284aab-9629-471a-afde-35b791cc4cd1"
      },
      "execution_count": null,
      "outputs": [
        {
          "output_type": "execute_result",
          "data": {
            "text/plain": [
              "[<matplotlib.lines.Line2D at 0x788db0a2ccd0>]"
            ]
          },
          "metadata": {},
          "execution_count": 9
        },
        {
          "output_type": "display_data",
          "data": {
            "text/plain": [
              "<Figure size 640x480 with 1 Axes>"
            ],
            "image/png": "[encoded data removed]"
          },
          "metadata": {}
        }
      ]
    },
    {
      "cell_type": "code",
      "source": [
        "plt.plot(g_losses)"
      ],
      "metadata": {
        "colab": {
          "base_uri": "https://localhost:8080/",
          "height": 448
        },
        "id": "-EOcjQh1G9sr",
        "outputId": "c6fd224a-f88f-4266-93b7-3eacf93b36a3"
      },
      "execution_count": null,
      "outputs": [
        {
          "output_type": "execute_result",
          "data": {
            "text/plain": [
              "[<matplotlib.lines.Line2D at 0x788db01461a0>]"
            ]
          },
          "metadata": {},
          "execution_count": 10
        },
        {
          "output_type": "display_data",
          "data": {
            "text/plain": [
              "<Figure size 640x480 with 1 Axes>"
            ],
            "image/png": "[encoded data removed]"
          },
          "metadata": {}
        }
      ]
    },
    {
      "cell_type": "code",
      "source": [
        "test_fake = g_net(fixed_latent_noise)\n",
        "plt.figure(figsize = (20,10))\n",
        "out = vutils.make_grid(test_fake.detach().cpu(), 4, normalize=True)\n",
        "plt.imshow(out.numpy().transpose((1, 2, 0)))"
      ],
      "metadata": {
        "colab": {
          "base_uri": "https://localhost:8080/",
          "height": 851
        },
        "id": "waOpJf0ZG-8m",
        "outputId": "ed9c8880-1155-43ea-bdbb-2b712aba5b62"
      },
      "execution_count": null,
      "outputs": [
        {
          "output_type": "execute_result",
          "data": {
            "text/plain": [
              "<matplotlib.image.AxesImage at 0x788db01a9810>"
            ]
          },
          "metadata": {},
          "execution_count": 11
        },
        {
          "output_type": "display_data",
          "data": {
            "text/plain": [
              "<Figure size 2000x1000 with 1 Axes>"
            ],
            "image/png": "[encoded data removed]"
          },
          "metadata": {}
        }
      ]
    },
    {
      "cell_type": "code",
      "source": [
        "imageio.mimsave('MNIST_GAN.gif', test_images_log)"
      ],
      "metadata": {
        "id": "_BKUIBopG_bC"
      },
      "execution_count": null,
      "outputs": []
    }
  ]
}